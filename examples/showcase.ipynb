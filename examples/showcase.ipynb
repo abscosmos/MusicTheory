{
 "cells": [
  {
   "cell_type": "code",
   "execution_count": 2,
   "id": "599a68cf-531e-4d32-bda3-39278a98a95c",
   "metadata": {},
   "outputs": [],
   "source": [
    ":dep ../\n",
    "use music_theory::prelude::*;\n",
    "use AccidentalSign as Accidental;\n",
    "use std::num::{NonZeroU16, NonZeroI16};\n",
    "use music_theory::scales::{heptatonic::*, numeral::*, sized_scale::*, typed_scale::*, dyn_scale::*, pentatonic::*, rooted::*};"
   ]
  },
  {
   "cell_type": "markdown",
   "id": "ad1ecfab-0d61-493b-8400-1987585a5cb6",
   "metadata": {},
   "source": [
    "## Pitches\n",
    "Pitches represent a letter + accidental, aware of spelling. If you don't want enharmonic spelling, use `PitchClass`."
   ]
  },
  {
   "cell_type": "code",
   "execution_count": null,
   "id": "026d4648-e9d2-4faa-bcb0-4092b123cc7d",
   "metadata": {},
   "outputs": [
    {
     "name": "stderr",
     "output_type": "stream",
     "text": [
      "[src\\lib.rs:117:1] c_sharp = CSharp\n",
      "[src\\lib.rs:117:1] a_double_sharp = ADoubleSharp\n",
      "[src\\lib.rs:117:1] d_flat = DFlat\n",
      "[src\\lib.rs:117:1] very_sharp_b = B(4500x)Sharp\n"
     ]
    }
   ],
   "source": [
    "// Create pitches from letter & accidental,\n",
    "let c_sharp = Pitch::from_letter_and_accidental(Letter::C, Accidental::SHARP);\n",
    "// .. constant\n",
    "let a_double_sharp = Pitch::A_DOUBLE_SHARP;\n",
    "// or string (&str)\n",
    "let d_flat = \"Db\".parse::<Pitch>().unwrap();\n",
    "\n",
    "// An arbitrary amount of sharps / flats are allowed*\n",
    "// (see https://dinoslice.com/posts/representing-pitches/ for more info) \n",
    "let sharps = AccidentalSign { offset: 4500 };\n",
    "let very_sharp_b = Pitch::from_letter_and_accidental(Letter::B, sharps);\n",
    "\n",
    "dbg!(c_sharp, a_double_sharp, d_flat, very_sharp_b);"
   ]
  },
  {
   "cell_type": "markdown",
   "id": "4d30bfb3-5cef-4338-b3cf-64c8e7344a91",
   "metadata": {},
   "source": [
    "Pitches can be queried for various properties, like `.letter()`, `.accidental()`, `pitch_class`, etc."
   ]
  },
  {
   "cell_type": "code",
   "execution_count": 4,
   "id": "cce0bc40-aa25-4019-85c5-d70088b75a54",
   "metadata": {},
   "outputs": [
    {
     "data": {
      "text/plain": [
       "B"
      ]
     },
     "execution_count": 4,
     "metadata": {},
     "output_type": "execute_result"
    }
   ],
   "source": [
    "very_sharp_b.letter()"
   ]
  },
  {
   "cell_type": "code",
   "execution_count": 5,
   "id": "91c03e4c-2811-4ffb-b6a0-8f25fc60d051",
   "metadata": {},
   "outputs": [
    {
     "data": {
      "text/plain": [
       "Flat"
      ]
     },
     "execution_count": 5,
     "metadata": {},
     "output_type": "execute_result"
    }
   ],
   "source": [
    "d_flat.accidental()"
   ]
  },
  {
   "cell_type": "code",
   "execution_count": 6,
   "id": "b57e1bde-d553-42b8-8c54-a84819371579",
   "metadata": {},
   "outputs": [
    {
     "data": {
      "text/plain": [
       "B"
      ]
     },
     "execution_count": 6,
     "metadata": {},
     "output_type": "execute_result"
    }
   ],
   "source": [
    "a_double_sharp.as_pitch_class()"
   ]
  },
  {
   "cell_type": "code",
   "execution_count": 7,
   "id": "d8620930-453b-49fa-a050-ef7585e9cf33",
   "metadata": {},
   "outputs": [
    {
     "data": {
      "text/plain": [
       "Cs"
      ]
     },
     "execution_count": 7,
     "metadata": {},
     "output_type": "execute_result"
    }
   ],
   "source": [
    "d_flat.as_pitch_class()"
   ]
  },
  {
   "cell_type": "markdown",
   "id": "6653f27c-acdb-48ba-9cac-b39978b0c51b",
   "metadata": {},
   "source": [
    "Pitches can be transposed by intervals, and you can get the interval between pitches."
   ]
  },
  {
   "cell_type": "code",
   "execution_count": 8,
   "id": "b6c6c7b9-dba4-446f-b020-96d0cd867133",
   "metadata": {},
   "outputs": [
    {
     "data": {
      "text/plain": [
       "EDoubleFlat"
      ]
     },
     "execution_count": 8,
     "metadata": {},
     "output_type": "execute_result"
    }
   ],
   "source": [
    "// You can transpose with .transpose() or the + operator\n",
    "Pitch::F + Interval::DIMINISHED_SEVENTH"
   ]
  },
  {
   "cell_type": "code",
   "execution_count": 9,
   "id": "a94d47c5-2615-432f-b56a-1f7b5e9a3367",
   "metadata": {},
   "outputs": [
    {
     "data": {
      "text/plain": [
       "Interval { quality: Minor, number: IntervalNumber(6) }"
      ]
     },
     "execution_count": 9,
     "metadata": {},
     "output_type": "execute_result"
    }
   ],
   "source": [
    "// This is the same as Interval::between_pitches(Pitch::D, Pitch::B_FLAT)\n",
    "Pitch::D.distance_to(Pitch::B_FLAT)"
   ]
  },
  {
   "cell_type": "markdown",
   "id": "c3525410-4c79-43b4-b623-3e1e0cff014b",
   "metadata": {},
   "source": [
    "You can also change how a pitch is spelled."
   ]
  },
  {
   "cell_type": "code",
   "execution_count": 10,
   "id": "6d307e5f-207d-43f5-93dd-0c0d03510b83",
   "metadata": {},
   "outputs": [
    {
     "data": {
      "text/plain": [
       "F"
      ]
     },
     "execution_count": 10,
     "metadata": {},
     "output_type": "execute_result"
    }
   ],
   "source": [
    "Pitch::E_SHARP.simplified()"
   ]
  },
  {
   "cell_type": "code",
   "execution_count": 11,
   "id": "c69d7770-3aa1-42da-b0ae-28a916e9563c",
   "metadata": {},
   "outputs": [
    {
     "data": {
      "text/plain": [
       "CSharp"
      ]
     },
     "execution_count": 11,
     "metadata": {},
     "output_type": "execute_result"
    }
   ],
   "source": [
    "Pitch::D_FLAT.enharmonic()"
   ]
  },
  {
   "cell_type": "code",
   "execution_count": 12,
   "id": "5e38d327-598a-4078-bbaa-c03a3ba8dc07",
   "metadata": {},
   "outputs": [
    {
     "data": {
      "text/plain": [
       "BFlat"
      ]
     },
     "execution_count": 12,
     "metadata": {},
     "output_type": "execute_result"
    }
   ],
   "source": [
    "// Spell a note with flats\n",
    "Pitch::A_SHARP.bias(false)"
   ]
  },
  {
   "cell_type": "code",
   "execution_count": 13,
   "id": "bbc2d4ca-99f8-4234-8c1c-c4c097c97121",
   "metadata": {},
   "outputs": [
    {
     "data": {
      "text/plain": [
       "DSharp"
      ]
     },
     "execution_count": 13,
     "metadata": {},
     "output_type": "execute_result"
    }
   ],
   "source": [
    "// ... or with sharps\n",
    "Pitch::E_FLAT.bias(true)"
   ]
  },
  {
   "cell_type": "markdown",
   "id": "8bf806fe-e81b-4544-b2b3-4dac509733f2",
   "metadata": {},
   "source": [
    "Pitches can also be ordered and checked for equality, ignoring spelling if desired."
   ]
  },
  {
   "cell_type": "code",
   "execution_count": 14,
   "id": "baf8ffc4-c6e9-4f0e-87bf-faa5898d4db1",
   "metadata": {},
   "outputs": [
    {
     "data": {
      "text/plain": [
       "false"
      ]
     },
     "execution_count": 14,
     "metadata": {},
     "output_type": "execute_result"
    }
   ],
   "source": [
    "// same \"key\", but spelled differently\n",
    "d_flat == c_sharp"
   ]
  },
  {
   "cell_type": "code",
   "execution_count": 15,
   "id": "781fab4e-88d6-4150-b404-ca00480ee883",
   "metadata": {},
   "outputs": [
    {
     "data": {
      "text/plain": [
       "true"
      ]
     },
     "execution_count": 15,
     "metadata": {},
     "output_type": "execute_result"
    }
   ],
   "source": [
    "// first ordered by letter, then accidental\n",
    "// (... < bb < b < natural < # < x < ...)\n",
    "c_sharp < d_flat"
   ]
  },
  {
   "cell_type": "code",
   "execution_count": 16,
   "id": "a6272f06-4884-4756-b8de-da7808f53913",
   "metadata": {},
   "outputs": [
    {
     "data": {
      "text/plain": [
       "true"
      ]
     },
     "execution_count": 16,
     "metadata": {},
     "output_type": "execute_result"
    }
   ],
   "source": [
    "// the EnharmonicEq trait can be used to ignore spelling\n",
    "c_sharp.eq_enharmonic(&d_flat)"
   ]
  },
  {
   "cell_type": "code",
   "execution_count": 17,
   "id": "fe6a069e-3445-41cf-87a2-6470beb6ff6e",
   "metadata": {},
   "outputs": [
    {
     "data": {
      "text/plain": [
       "Less"
      ]
     },
     "execution_count": 17,
     "metadata": {},
     "output_type": "execute_result"
    }
   ],
   "source": [
    "// the EnharmonicOrd trait can be used to order ignore spelling\n",
    "// using Ord (rust trait for <, <=, ==, >, >=), this would be Fbb > E##\n",
    "Pitch::F_DOUBLE_FLAT.cmp_enharmonic(&Pitch::E_DOUBLE_SHARP)"
   ]
  },
  {
   "cell_type": "markdown",
   "id": "f6502f35-b5ca-4ea8-83fc-620c386373f6",
   "metadata": {},
   "source": [
    "## Notes\n",
    "Notes are pitches with octave information. It has many of the same pitch methods, now taking into account octave."
   ]
  },
  {
   "cell_type": "code",
   "execution_count": 18,
   "id": "126569a9-cee3-43ce-b539-a967c2ffaee9",
   "metadata": {},
   "outputs": [
    {
     "data": {
      "text/plain": [
       "Note { pitch: AFlat, octave: 5 }"
      ]
     },
     "execution_count": 18,
     "metadata": {},
     "output_type": "execute_result"
    }
   ],
   "source": [
    "let g5 = Note::new(Pitch::G, 5);\n",
    "\n",
    "g5 + Interval::MINOR_SECOND"
   ]
  },
  {
   "cell_type": "markdown",
   "id": "4b2673b7-50cc-4337-b489-27aadb437304",
   "metadata": {},
   "source": [
    "Notes can also be converted to & built from frequency & midi."
   ]
  },
  {
   "cell_type": "code",
   "execution_count": 19,
   "id": "ce96fcf0-24c0-46c4-8edf-f9ac155f4b51",
   "metadata": {},
   "outputs": [
    {
     "data": {
      "text/plain": [
       "783.99084"
      ]
     },
     "execution_count": 19,
     "metadata": {},
     "output_type": "execute_result"
    }
   ],
   "source": [
    "g5.as_frequency_hz()"
   ]
  },
  {
   "cell_type": "code",
   "execution_count": 20,
   "id": "835f790d-6977-4811-8cad-15120d8ccb62",
   "metadata": {},
   "outputs": [
    {
     "data": {
      "text/plain": [
       "79"
      ]
     },
     "execution_count": 20,
     "metadata": {},
     "output_type": "execute_result"
    }
   ],
   "source": [
    "// unwrap needed, since notes can have arbitraily high/low octaves, but midi doesn't\n",
    "g5.as_midi().unwrap()"
   ]
  },
  {
   "cell_type": "code",
   "execution_count": 21,
   "id": "1dadb694-baa7-478f-a42f-6d829d58b56a",
   "metadata": {},
   "outputs": [
    {
     "data": {
      "text/plain": [
       "Note { pitch: A, octave: 4 }"
      ]
     },
     "execution_count": 21,
     "metadata": {},
     "output_type": "execute_result"
    }
   ],
   "source": [
    "// a4, which 12TET 440.0hz is tuned to\n",
    "Note::from_frequency_hz(440.0).unwrap()"
   ]
  },
  {
   "cell_type": "code",
   "execution_count": 22,
   "id": "81edf17c-3bd8-43c4-916c-8ecaffb72c8e",
   "metadata": {},
   "outputs": [
    {
     "data": {
      "text/plain": [
       "Note { pitch: B, octave: 1 }"
      ]
     },
     "execution_count": 22,
     "metadata": {},
     "output_type": "execute_result"
    }
   ],
   "source": [
    "Note::from_midi(35)"
   ]
  },
  {
   "cell_type": "markdown",
   "id": "00ca00d8-2dab-43b0-9828-93b66e589962",
   "metadata": {},
   "source": [
    "## Interval\n",
    "Intervals represent a distance between two notes."
   ]
  },
  {
   "cell_type": "code",
   "execution_count": null,
   "id": "c973445d-ceb1-41d2-9dc2-226e3b301354",
   "metadata": {},
   "outputs": [
    {
     "name": "stderr",
     "output_type": "stream",
     "text": [
      "[src\\lib.rs:132:1] m2.to_string() = \"m2\"\n",
      "[src\\lib.rs:132:1] ddddd20.to_string() = \"ddddd20\"\n",
      "[src\\lib.rs:132:1] aug4.to_string() = \"A4\"\n",
      "[src\\lib.rs:132:1] maj3.to_string() = \"M3\"\n"
     ]
    }
   ],
   "source": [
    "// Create intervals from quality and number\n",
    "// (checked, will return None if invalid, like m5)\n",
    "let m2 = Interval::new(IntervalQuality::Minor, IntervalNumber::SECOND).unwrap();\n",
    "\n",
    "// interval quality can be Minor, Major, Perfect, or any number of Diminished/Augmented\n",
    "// constants provided for dd, d, m, M, P, A, AA\n",
    "// interval number has constants up to fifteenth, or can be made from nonzero\n",
    "let ddddd20 = Interval::new(IntervalQuality::Diminished(NonZeroU16::new(5).unwrap()), IntervalNumber(NonZeroI16::new(20).unwrap())).unwrap();\n",
    "\n",
    "// or use a constant\n",
    "let aug4: Interval = Interval::AUGMENTED_FOURTH;\n",
    "\n",
    "// or from string (&str)\n",
    "let maj3 = \"M3\".parse::<Interval>().unwrap();\n",
    "\n",
    "// to_string() used since pretty print is somewhat verbose\n",
    "dbg!(m2.to_string(), ddddd20.to_string(), aug4.to_string(), maj3.to_string());"
   ]
  },
  {
   "cell_type": "markdown",
   "id": "528a93b9-6a7a-47a9-af37-819618d3f89e",
   "metadata": {},
   "source": [
    "Intervals can be simplified and inverted. You can also check how many semitones an interval spans."
   ]
  },
  {
   "cell_type": "code",
   "execution_count": 24,
   "id": "2348ce0d-5277-48e3-88bf-c9ae651880b1",
   "metadata": {},
   "outputs": [
    {
     "data": {
      "text/plain": [
       "\"M6\""
      ]
     },
     "execution_count": 24,
     "metadata": {},
     "output_type": "execute_result"
    }
   ],
   "source": [
    "Interval::MAJOR_THIRTEENTH.as_simple().to_string()"
   ]
  },
  {
   "cell_type": "code",
   "execution_count": 25,
   "id": "7851db0b-fe58-4abc-825a-ca5d276566af",
   "metadata": {},
   "outputs": [
    {
     "data": {
      "text/plain": [
       "\"P4\""
      ]
     },
     "execution_count": 25,
     "metadata": {},
     "output_type": "execute_result"
    }
   ],
   "source": [
    "Interval::PERFECT_FIFTH.inverted().to_string()"
   ]
  },
  {
   "cell_type": "code",
   "execution_count": 26,
   "id": "2f7cf767-dddd-4519-91a8-74e711fd89e1",
   "metadata": {},
   "outputs": [
    {
     "data": {
      "text/plain": [
       "Semitone(9)"
      ]
     },
     "execution_count": 26,
     "metadata": {},
     "output_type": "execute_result"
    }
   ],
   "source": [
    "Interval::MAJOR_SIXTH.semitones()"
   ]
  },
  {
   "cell_type": "code",
   "execution_count": 27,
   "id": "cd1fb34f-0326-4192-93f8-06f19a12cbf0",
   "metadata": {},
   "outputs": [
    {
     "data": {
      "text/plain": [
       "Semitone(-10)"
      ]
     },
     "execution_count": 27,
     "metadata": {},
     "output_type": "execute_result"
    }
   ],
   "source": [
    "// descending intervals semitones value is negative\n",
    "(-Interval::MINOR_SEVENTH).semitones()"
   ]
  },
  {
   "cell_type": "markdown",
   "id": "abacc586-f4c4-4bc2-b132-6841601a3faf",
   "metadata": {},
   "source": [
    "You can check for subzero intervals, and expand them if they are. Subzero intervals are intervals whose direction is opposite from the direction the note is moved."
   ]
  },
  {
   "cell_type": "code",
   "execution_count": 28,
   "id": "95410a36-cb16-4c24-aae9-45476f1d8873",
   "metadata": {},
   "outputs": [
    {
     "data": {
      "text/plain": [
       "true"
      ]
     },
     "execution_count": 28,
     "metadata": {},
     "output_type": "execute_result"
    }
   ],
   "source": [
    "let d1 = Interval::new(IntervalQuality::DIMINISHED, IntervalNumber::UNISON).unwrap();\n",
    "\n",
    "d1.is_subzero()"
   ]
  },
  {
   "cell_type": "code",
   "execution_count": 29,
   "id": "cf717486-4400-4c95-b942-f661975e7401",
   "metadata": {},
   "outputs": [
    {
     "data": {
      "text/plain": [
       "Note { pitch: CFlat, octave: 4 }"
      ]
     },
     "execution_count": 29,
     "metadata": {},
     "output_type": "execute_result"
    }
   ],
   "source": [
    "// after transposing, note is one semitone lower, despite the interval being ascending\n",
    "Note::new(Pitch::C, 4) + d1"
   ]
  },
  {
   "cell_type": "code",
   "execution_count": 30,
   "id": "24e70608-4ed5-4c58-95f6-db1d63a4e95f",
   "metadata": {},
   "outputs": [
    {
     "data": {
      "text/plain": [
       "\"d8\""
      ]
     },
     "execution_count": 30,
     "metadata": {},
     "output_type": "execute_result"
    }
   ],
   "source": [
    "// expanding a subzero interval octaves so the interval isn't subzero anymore\n",
    "d1.expand_subzero().to_string()"
   ]
  },
  {
   "cell_type": "markdown",
   "id": "94955415-9442-4cfd-81b0-f8dc6954c20f",
   "metadata": {},
   "source": [
    "Intervals also have direction."
   ]
  },
  {
   "cell_type": "code",
   "execution_count": 31,
   "id": "d9a4dcdf-3c14-406c-b602-75b0fcf4b3b2",
   "metadata": {},
   "outputs": [
    {
     "data": {
      "text/plain": [
       "Note { pitch: FSharp, octave: 3 }"
      ]
     },
     "execution_count": 31,
     "metadata": {},
     "output_type": "execute_result"
    }
   ],
   "source": [
    "let c4 = Note::MIDDLE_C;\n",
    "\n",
    "let negative_d5 = -Interval::DIMINISHED_FIFTH;\n",
    "\n",
    "// adding a negative interval will move the note down\n",
    "c4 + negative_d5"
   ]
  },
  {
   "cell_type": "code",
   "execution_count": 32,
   "id": "2f5c519e-3393-4307-8a36-b8a92f34214d",
   "metadata": {},
   "outputs": [
    {
     "data": {
      "text/plain": [
       "Note { pitch: GFlat, octave: 4 }"
      ]
     },
     "execution_count": 32,
     "metadata": {},
     "output_type": "execute_result"
    }
   ],
   "source": [
    "// an abs() method is also provided\n",
    "c4 + negative_d5.abs()"
   ]
  },
  {
   "cell_type": "markdown",
   "id": "1df97004-c514-47a9-87a1-53fe9f2345f2",
   "metadata": {},
   "source": [
    "Interval also supports complex intervals."
   ]
  },
  {
   "cell_type": "code",
   "execution_count": 33,
   "id": "8960616e-9b99-4f9e-9b27-1d7be5c31e03",
   "metadata": {},
   "outputs": [
    {
     "data": {
      "text/plain": [
       "Note { pitch: B, octave: 5 }"
      ]
     },
     "execution_count": 33,
     "metadata": {},
     "output_type": "execute_result"
    }
   ],
   "source": [
    "c4 + Interval::MAJOR_FOURTEENTH"
   ]
  },
  {
   "cell_type": "code",
   "execution_count": 34,
   "id": "5610ef75-f461-4739-acb0-53dabd1356c2",
   "metadata": {},
   "outputs": [
    {
     "data": {
      "text/plain": [
       "Note { pitch: B, octave: 4 }"
      ]
     },
     "execution_count": 34,
     "metadata": {},
     "output_type": "execute_result"
    }
   ],
   "source": [
    "// You can make them simple again\n",
    "c4 + Interval::MAJOR_FOURTEENTH.as_simple()"
   ]
  },
  {
   "cell_type": "markdown",
   "id": "49157712-0c99-4065-9677-2726e604c391",
   "metadata": {},
   "source": [
    "Adding intervals is also possible, and it can compose two transpositions together."
   ]
  },
  {
   "cell_type": "code",
   "execution_count": 35,
   "id": "8e632228-355b-442b-bb0e-c4efd31c065d",
   "metadata": {},
   "outputs": [
    {
     "data": {
      "text/plain": [
       "Note { pitch: BSharp, octave: 4 }"
      ]
     },
     "execution_count": 35,
     "metadata": {},
     "output_type": "execute_result"
    }
   ],
   "source": [
    "let p5 = Interval::PERFECT_FIFTH;\n",
    "\n",
    "let a3 = Interval::AUGMENTED_THIRD;\n",
    "\n",
    "(c4 + p5) + a3"
   ]
  },
  {
   "cell_type": "code",
   "execution_count": 36,
   "id": "4e495f9c-76c1-4a9a-b667-47d58db8286c",
   "metadata": {},
   "outputs": [
    {
     "data": {
      "text/plain": [
       "\"A7\""
      ]
     },
     "execution_count": 36,
     "metadata": {},
     "output_type": "execute_result"
    }
   ],
   "source": [
    "let sum = p5 + a3;\n",
    "\n",
    "sum.to_string()"
   ]
  },
  {
   "cell_type": "code",
   "execution_count": 37,
   "id": "769db0ad-3422-4416-acf4-d5ed9d2baf62",
   "metadata": {},
   "outputs": [
    {
     "data": {
      "text/plain": [
       "Note { pitch: BSharp, octave: 4 }"
      ]
     },
     "execution_count": 37,
     "metadata": {},
     "output_type": "execute_result"
    }
   ],
   "source": [
    "c4 + sum"
   ]
  },
  {
   "cell_type": "markdown",
   "id": "215a5a5e-2896-4938-af6a-a819811dbaac",
   "metadata": {},
   "source": [
    "## Key\n",
    "Keys are collections of pitches organized around a central note, following the pattern of a diatonic scale."
   ]
  },
  {
   "cell_type": "code",
   "execution_count": 38,
   "id": "b288954e-832c-4b88-b1d9-dacd3fa856d6",
   "metadata": {},
   "outputs": [
    {
     "data": {
      "text/plain": [
       "Key { tonic: E, mode: Ionian }"
      ]
     },
     "execution_count": 38,
     "metadata": {},
     "output_type": "execute_result"
    }
   ],
   "source": [
    "// create a major(ionian) key\n",
    "let e_maj = Key::major(Pitch::E);\n",
    "\n",
    "e_maj"
   ]
  },
  {
   "cell_type": "code",
   "execution_count": 39,
   "id": "9f3c8e7c-8055-4d9a-964e-53d70738a634",
   "metadata": {},
   "outputs": [
    {
     "data": {
      "text/plain": [
       "4"
      ]
     },
     "execution_count": 39,
     "metadata": {},
     "output_type": "execute_result"
    }
   ],
   "source": [
    "// The key of Emaj has 4 sharps\n",
    "e_maj.sharps()"
   ]
  },
  {
   "cell_type": "code",
   "execution_count": 40,
   "id": "4cb26d38-4001-4338-8113-1a303c5ec87d",
   "metadata": {},
   "outputs": [
    {
     "data": {
      "text/plain": [
       "[FSharp, CSharp, GSharp, DSharp]"
      ]
     },
     "execution_count": 40,
     "metadata": {},
     "output_type": "execute_result"
    }
   ],
   "source": [
    "// Those sharps are ...\n",
    "e_maj.alterations()"
   ]
  },
  {
   "cell_type": "code",
   "execution_count": 41,
   "id": "30539d86-743b-4e33-920f-99b6aad1d767",
   "metadata": {},
   "outputs": [
    {
     "data": {
      "text/plain": [
       "Some(Key { tonic: CSharp, mode: Aeolian })"
      ]
     },
     "execution_count": 41,
     "metadata": {},
     "output_type": "execute_result"
    }
   ],
   "source": [
    "// if the key is major, this will return the relative minor (aeolian)\n",
    "// if minor, will return relative major\n",
    "// other diatonic modes will return None, which is why this returns option\n",
    "e_maj.relative()"
   ]
  },
  {
   "cell_type": "code",
   "execution_count": 42,
   "id": "815da029-2cf7-42a7-a123-c9f3dd53578b",
   "metadata": {},
   "outputs": [
    {
     "data": {
      "text/plain": [
       "Sharp"
      ]
     },
     "execution_count": 42,
     "metadata": {},
     "output_type": "execute_result"
    }
   ],
   "source": [
    "// what accidental does G have in E maj?\n",
    "e_maj.accidental_of(Letter::G)"
   ]
  },
  {
   "cell_type": "code",
   "execution_count": 43,
   "id": "b7c0aca6-e229-4b75-967a-cebd2126d803",
   "metadata": {},
   "outputs": [
    {
     "data": {
      "text/plain": [
       "GSharp"
      ]
     },
     "execution_count": 43,
     "metadata": {},
     "output_type": "execute_result"
    }
   ],
   "source": [
    "// (same thing) You can also use a key to turn a letter to a pitch in a key.\n",
    "Letter::G.to_pitch_in_key(e_maj)"
   ]
  },
  {
   "cell_type": "markdown",
   "id": "8288635f-92da-4a90-9911-6fc654c2ad1d",
   "metadata": {},
   "source": [
    "You can also create a key in other ways."
   ]
  },
  {
   "cell_type": "code",
   "execution_count": 44,
   "id": "756bc600-a0cd-4cbe-8da0-71924bbad201",
   "metadata": {},
   "outputs": [
    {
     "data": {
      "text/plain": [
       "Key { tonic: FSharp, mode: Ionian }"
      ]
     },
     "execution_count": 44,
     "metadata": {},
     "output_type": "execute_result"
    }
   ],
   "source": [
    "// .. What key has 6 sharps?\n",
    "Key::from_sharps(6, DiatonicMode::MAJOR)"
   ]
  },
  {
   "cell_type": "code",
   "execution_count": 45,
   "id": "78381f2a-2fb3-4f6d-9a5f-0889175ee36a",
   "metadata": {},
   "outputs": [
    {
     "data": {
      "text/plain": [
       "Key { tonic: D, mode: Aeolian }"
      ]
     },
     "execution_count": 45,
     "metadata": {},
     "output_type": "execute_result"
    }
   ],
   "source": [
    "// .. What minor key has Bb as its 6th degree?\n",
    "Key::from_pitch_degree(Numeral7::VI, Pitch::B_FLAT, DiatonicMode::NATURAL_MINOR)"
   ]
  },
  {
   "cell_type": "code",
   "execution_count": 46,
   "id": "42267a79-8648-41b2-9605-3bf74e0c2071",
   "metadata": {},
   "outputs": [
    {
     "data": {
      "text/plain": [
       "Some(Key { tonic: DFlat, mode: Ionian })"
      ]
     },
     "execution_count": 46,
     "metadata": {},
     "output_type": "execute_result"
    }
   ],
   "source": [
    "// .. What key has Db as its tonic, and has 5 flats?\n",
    "Key::try_from_sharps_tonic(-5, Pitch::D_FLAT)"
   ]
  },
  {
   "cell_type": "code",
   "execution_count": 47,
   "id": "de17a531-3506-4a7a-87e5-915e0318c691",
   "metadata": {},
   "outputs": [
    {
     "data": {
      "text/plain": [
       "Some(Key { tonic: A, mode: Locrian })"
      ]
     },
     "execution_count": 47,
     "metadata": {},
     "output_type": "execute_result"
    }
   ],
   "source": [
    "// That method is useful since keys on other diatonic modes are allowed\n",
    "Key::try_from_sharps_tonic(-2, Pitch::A)"
   ]
  },
  {
   "cell_type": "markdown",
   "id": "8d3c6aee-9e1a-4c04-8344-54163e205625",
   "metadata": {},
   "source": [
    "You can also get a scale from a key. Scales are still a work in progress."
   ]
  },
  {
   "cell_type": "code",
   "execution_count": 48,
   "id": "646f544d-7acc-430b-b445-b55b7457364f",
   "metadata": {},
   "outputs": [
    {
     "data": {
      "text/plain": [
       "RootedSizedScale { root: E, scale: TypedScale { mode: Ionian } }"
      ]
     },
     "execution_count": 48,
     "metadata": {},
     "output_type": "execute_result"
    }
   ],
   "source": [
    "e_maj.scale()"
   ]
  },
  {
   "cell_type": "code",
   "execution_count": 49,
   "id": "fd206e79-dc4b-4ee5-82b5-b6eed62ecb31",
   "metadata": {},
   "outputs": [
    {
     "data": {
      "text/plain": [
       "[E, FSharp, GSharp, A, B, CSharp, DSharp]"
      ]
     },
     "execution_count": 49,
     "metadata": {},
     "output_type": "execute_result"
    }
   ],
   "source": [
    "e_maj.scale().build_default()"
   ]
  },
  {
   "cell_type": "markdown",
   "id": "231d2c98-09a3-433a-9458-31ae5ae6bff4",
   "metadata": {},
   "source": [
    "## Scales\n",
    "A sequence of octave-repeating* pitches following a specific pattern of intervals. Scales have gone through *two* implementations already, and are still a work in progress."
   ]
  },
  {
   "cell_type": "markdown",
   "id": "785f444c-9592-42e0-8457-f1633b4f310d",
   "metadata": {},
   "source": [
    "**Types**\n",
    "\n",
    "The current impl of scales has three types of scales: an exact scale, like the major scale; a typed scale, like a diatonic scale; and a dynamic scale, which can represent any type of scale.\n",
    "These different kinds of scales offer type safety, but make the API harder to use, which is why they will be redesigned in the future."
   ]
  },
  {
   "cell_type": "code",
   "execution_count": 50,
   "id": "04b8b7c6-cbfb-47de-b270-ef7ab9c22e20",
   "metadata": {},
   "outputs": [
    {
     "data": {
      "text/plain": [
       "[D, E, FSharp, G, A, B, CSharp]"
      ]
     },
     "execution_count": 50,
     "metadata": {},
     "output_type": "execute_result"
    }
   ],
   "source": [
    "// this is a unit struct which implements ExactScale<7, Scale= DiatonicScaleDef>\n",
    "MajorScale.build_from(Pitch::D)"
   ]
  },
  {
   "cell_type": "code",
   "execution_count": 51,
   "id": "ab1105b4-1823-45cd-96d9-7d670efbaf9e",
   "metadata": {},
   "outputs": [
    {
     "data": {
      "text/plain": [
       "TypedScale { mode: Aeolian }"
      ]
     },
     "execution_count": 51,
     "metadata": {},
     "output_type": "execute_result"
    }
   ],
   "source": [
    "// for a minor scale\n",
    "// this type is flexible over the mode of the scale\n",
    "let minor_scale: TypedScale<DiatonicScaleDef, 7> = DiatonicScale::new(DiatonicMode::NATURAL_MINOR);\n",
    "\n",
    "minor_scale"
   ]
  },
  {
   "cell_type": "code",
   "execution_count": 52,
   "id": "a16ff731-b3e5-4bac-a2ef-c65b855bf68f",
   "metadata": {},
   "outputs": [
    {
     "data": {
      "text/plain": [
       "[G, A, BFlat, C, D, EFlat, F]"
      ]
     },
     "execution_count": 52,
     "metadata": {},
     "output_type": "execute_result"
    }
   ],
   "source": [
    "minor_scale.build_from(Pitch::G)"
   ]
  },
  {
   "cell_type": "code",
   "execution_count": 53,
   "id": "4d74f0aa-ecb7-4841-bc9d-d7b05b3b0465",
   "metadata": {},
   "outputs": [
    {
     "data": {
      "text/plain": [
       "[C, D, EFlat, G, AFlat]"
      ]
     },
     "execution_count": 53,
     "metadata": {},
     "output_type": "execute_result"
    }
   ],
   "source": [
    "let maj2 = Interval::MAJOR_SECOND;\n",
    "let m2 = Interval::MINOR_SECOND;\n",
    "let maj3 = Interval::MAJOR_THIRD;\n",
    "\n",
    "// finally, there's dynamic scales, which can be anything\n",
    "// this is a traditional japanese scale for the koto\n",
    "// this returns an option, since it checks that the intervals sum to an octave\n",
    "// non octave repeating scales might be implemented when scales are reworked\n",
    "let iwato = DynamicScale::new([maj2, m2, maj3, m2, maj3]).expect(\"should sum to P8\"); \n",
    "\n",
    "iwato.build_from(Pitch::C)"
   ]
  },
  {
   "cell_type": "markdown",
   "id": "ab963740-1b1c-4309-a50b-3134b7a15cb1",
   "metadata": {},
   "source": [
    "Other scale types can also be converted into dynamic scales."
   ]
  },
  {
   "cell_type": "code",
   "execution_count": 54,
   "id": "aa02b125-4737-4877-828a-54386780a566",
   "metadata": {},
   "outputs": [
    {
     "data": {
      "text/plain": [
       "DynamicScale { ivls: [Interval { quality: Major, number: IntervalNumber(2) }, Interval { quality: Major, number: IntervalNumber(2) }, Interval { quality: Minor, number: IntervalNumber(2) }, Interval { quality: Major, number: IntervalNumber(2) }, Interval { quality: Major, number: IntervalNumber(2) }, Interval { quality: Major, number: IntervalNumber(2) }, Interval { quality: Minor, number: IntervalNumber(2) }] }"
      ]
     },
     "execution_count": 54,
     "metadata": {},
     "output_type": "execute_result"
    }
   ],
   "source": [
    "MajorScale.to_dyn()"
   ]
  },
  {
   "cell_type": "markdown",
   "id": "52e51399-b9d9-48f9-a0c3-95ac60cfd086",
   "metadata": {},
   "source": [
    "Scales by themselves don't come with many methods, mainly just `.build_from()` which creates the scale from a starting point, and `.interval_between_degrees()`."
   ]
  },
  {
   "cell_type": "code",
   "execution_count": 55,
   "id": "4ea329e8-624d-4df9-ac7e-65c486c89a06",
   "metadata": {},
   "outputs": [
    {
     "data": {
      "text/plain": [
       "\"P4\""
      ]
     },
     "execution_count": 55,
     "metadata": {},
     "output_type": "execute_result"
    }
   ],
   "source": [
    "// this method uses the numeral type, which ensures the degree is in range.\n",
    "let p4 = MajorScale.interval_between_degrees(Numeral7::II, Numeral7::V);\n",
    "\n",
    "p4.to_string()"
   ]
  },
  {
   "cell_type": "markdown",
   "id": "7057b310-09cc-4d2e-b3c7-fd43958a951c",
   "metadata": {},
   "source": [
    "If you give your scale a root, you can do more with it."
   ]
  },
  {
   "cell_type": "code",
   "execution_count": 56,
   "id": "6e198d0b-6d8f-452f-a518-116623b21ccb",
   "metadata": {},
   "outputs": [
    {
     "data": {
      "text/plain": [
       "[\"D4\", \"E4\", \"F♯4\", \"G4\", \"A4\", \"B4\", \"C♯5\"]"
      ]
     },
     "execution_count": 56,
     "metadata": {},
     "output_type": "execute_result"
    }
   ],
   "source": [
    "let d_maj: RootedSizedScale<Note, 7, MajorScale> = RootedSizedScale { root: Note::new(Pitch::D, 4), scale: MajorScale };\n",
    "\n",
    "d_maj.build_default().map(|n| n.to_string())"
   ]
  },
  {
   "cell_type": "code",
   "execution_count": 57,
   "id": "a95172da-1328-4f75-8fca-ca655651fa02",
   "metadata": {},
   "outputs": [
    {
     "data": {
      "text/plain": [
       "[\"F♯2\", \"G2\", \"A2\", \"B2\", \"C♯3\", \"D3\", \"E3\", \"F♯3\", \"G3\", \"A3\", \"B3\", \"C♯4\", \"D4\", \"E4\", \"F♯4\", \"G4\", \"A4\"]"
      ]
     },
     "execution_count": 57,
     "metadata": {},
     "output_type": "execute_result"
    }
   ],
   "source": [
    "// build a scale from a starting point up until an end\n",
    "let scale = d_maj.build(Note::new(Pitch::F, 2), Note::new(Pitch::A, 4));\n",
    "\n",
    "// debug repr can be verbose, so converting to string\n",
    "scale.into_iter().map(|n| n.to_string()).collect::<Vec<_>>()"
   ]
  },
  {
   "cell_type": "code",
   "execution_count": 58,
   "id": "c5920481-d3b7-40af-ac6d-ca790f68051e",
   "metadata": {},
   "outputs": [
    {
     "data": {
      "text/plain": [
       "Some((3, Flat))"
      ]
     },
     "execution_count": 58,
     "metadata": {},
     "output_type": "execute_result"
    }
   ],
   "source": [
    "// in dmin, an F requires applying a flat to the 3rd degree\n",
    "// will return None if the letter doesn't exist in the scale\n",
    "d_maj.get_scale_degree_and_accidental(Note::new(Pitch::F, 4))"
   ]
  },
  {
   "cell_type": "code",
   "execution_count": 59,
   "id": "e99429b6-f546-424e-b92f-d27a4dde041e",
   "metadata": {},
   "outputs": [
    {
     "data": {
      "text/plain": [
       "Note { pitch: A, octave: 4 }"
      ]
     },
     "execution_count": 59,
     "metadata": {},
     "output_type": "execute_result"
    }
   ],
   "source": [
    "// what's the next note in d min after G#?\n",
    "d_maj.next_in_scale_after(Note::new(Pitch::G_SHARP, 4))"
   ]
  },
  {
   "cell_type": "code",
   "execution_count": 60,
   "id": "7cb38bd3-33e8-4468-996e-41020d9b2422",
   "metadata": {},
   "outputs": [
    {
     "data": {
      "text/plain": [
       "RootedSizedScale { root: Note { pitch: F, octave: 4 }, scale: MajorScale }"
      ]
     },
     "execution_count": 60,
     "metadata": {},
     "output_type": "execute_result"
    }
   ],
   "source": [
    "// you can also transpose a scale, which internally transposes its root\n",
    "let f_maj: RootedSizedScale<Note, 7, MajorScale> = d_maj.transpose(Interval::MINOR_THIRD);\n",
    "\n",
    "f_maj"
   ]
  },
  {
   "cell_type": "code",
   "execution_count": 61,
   "id": "3f680d2b-6d8b-4ef9-8b77-bfcfce0f5f7d",
   "metadata": {},
   "outputs": [
    {
     "data": {
      "text/plain": [
       "Note { pitch: G, octave: 4 }"
      ]
     },
     "execution_count": 61,
     "metadata": {},
     "output_type": "execute_result"
    }
   ],
   "source": [
    "// you can also get notes at specific scale degrees using .get()\n",
    "// this takes a numeral type, ensuring the degree is in range\n",
    "f_maj.get(Numeral7::II)"
   ]
  },
  {
   "cell_type": "code",
   "execution_count": 62,
   "id": "2446d25a-8cf5-40f7-85b7-4b2fd968a556",
   "metadata": {},
   "outputs": [
    {
     "data": {
      "text/plain": [
       "Note { pitch: D, octave: 5 }"
      ]
     },
     "execution_count": 62,
     "metadata": {},
     "output_type": "execute_result"
    }
   ],
   "source": [
    "// you can make attempt to make a numeral, if needed\n",
    "f_maj.get(Numeral7::from_repr(6).expect(\"6 is a valid scale degree for a heptatonic scale\"))"
   ]
  }
 ],
 "metadata": {
  "kernelspec": {
   "display_name": "Rust",
   "language": "rust",
   "name": "rust"
  },
  "language_info": {
   "codemirror_mode": "rust",
   "file_extension": ".rs",
   "mimetype": "text/rust",
   "name": "Rust",
   "pygment_lexer": "rust",
   "version": ""
  }
 },
 "nbformat": 4,
 "nbformat_minor": 5
}
